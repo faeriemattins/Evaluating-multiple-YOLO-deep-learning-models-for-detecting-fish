{
 "cells": [
  {
   "cell_type": "markdown",
   "metadata": {},
   "source": [
    "## **Import Libraries**"
   ]
  },
  {
   "cell_type": "code",
   "execution_count": null,
   "metadata": {},
   "outputs": [],
   "source": [
    "import pandas as pd\n",
    "import numpy as np\n",
    "from sklearn.metrics import confusion_matrix, ConfusionMatrixDisplay\n",
    "import matplotlib.pyplot as plt"
   ]
  },
  {
   "cell_type": "code",
   "execution_count": null,
   "metadata": {},
   "outputs": [],
   "source": [
    "# np.unique(cls)"
   ]
  },
  {
   "cell_type": "markdown",
   "metadata": {},
   "source": [
    "## **Define Functions**"
   ]
  },
  {
   "cell_type": "code",
   "execution_count": null,
   "metadata": {},
   "outputs": [],
   "source": [
    "def read_file_line(file_name):\n",
    "    with open(file_name) as file:\n",
    "        file_lines = []\n",
    "        for line in file:\n",
    "            file_lines.append(line.replace(\"\\n\", ''))\n",
    "    return file_lines\n",
    "\n",
    "def get_idx(list):\n",
    "    idx = []\n",
    "    for line in list:\n",
    "        line = line.split(\" -> \")[0]\n",
    "        idx.append(line)\n",
    "    return idx\n",
    "\n",
    "def get_class(list):\n",
    "    cls = []\n",
    "    for line in list:\n",
    "        line = line.split(\" -> \")[1]\n",
    "        if line == \" \" or line == \"\":\n",
    "            cls.append(\"null\")\n",
    "        else:\n",
    "            cls.append(line)\n",
    "    return cls\n",
    "\n",
    "def get_label(list):\n",
    "    dict = {\n",
    "        \"null\": 0,\n",
    "        \"Chaetodon Lununatus\": 1,\n",
    "        \"Dascyllus Aruanus\": 2,\n",
    "        \"Dascyllus Reticulatus\": 3,\n",
    "        \"Pempheris Vanicolensis\": 4,\n",
    "        \"Plectrogly-Phidodon Dickii\": 5,\n",
    "    }\n",
    "    labels = []\n",
    "    for line in list:\n",
    "        line = line.split(\" -> \")[1]\n",
    "        if line == \" \" or line == \"\":\n",
    "            labels.append(0)\n",
    "        else:\n",
    "            labels.append(dict[line])\n",
    "    return labels"
   ]
  },
  {
   "cell_type": "markdown",
   "metadata": {},
   "source": [
    "## **Import Data**"
   ]
  },
  {
   "cell_type": "code",
   "execution_count": null,
   "metadata": {},
   "outputs": [],
   "source": [
    "pred = read_file_line(\"yolov4/mock/log_yolov5_conf50_dalkti.txt\")\n",
    "truth = read_file_line(\"yolov4/mock/ground_truth_onlyFish_5species_dalkti.txt\")"
   ]
  },
  {
   "cell_type": "markdown",
   "metadata": {},
   "source": [
    "## **Format Data**"
   ]
  },
  {
   "cell_type": "code",
   "execution_count": null,
   "metadata": {},
   "outputs": [],
   "source": [
    "idx = get_idx(pred)\n",
    "cls = get_class(pred)\n",
    "labels = get_label(pred)\n",
    "\n",
    "pred_df = pd.DataFrame(list(zip(idx, cls, labels)), columns=[\"file\", \"class\", \"labels\"]).drop_duplicates(keep='first')\n"
   ]
  },
  {
   "cell_type": "code",
   "execution_count": null,
   "metadata": {},
   "outputs": [],
   "source": [
    "idx = get_idx(truth)\n",
    "cls = get_class(truth)\n",
    "labels = get_label(truth)\n",
    "\n",
    "truth_df = pd.DataFrame(list(zip(idx, cls, labels)), columns=[\"file\", \"class\", \"labels\"]).drop_duplicates(keep='first')\n"
   ]
  },
  {
   "cell_type": "code",
   "execution_count": null,
   "metadata": {},
   "outputs": [],
   "source": [
    "df = pd.merge(pred_df, truth_df, how=\"inner\", on=[\"file\"]).drop_duplicates(keep='first')\n",
    "df"
   ]
  },
  {
   "cell_type": "markdown",
   "metadata": {},
   "source": [
    "## **Print Confusion Matrix**"
   ]
  },
  {
   "cell_type": "code",
   "execution_count": null,
   "metadata": {},
   "outputs": [],
   "source": [
    "predictions = df[\"labels_x\"]\n",
    "actual_values = df[\"labels_y\"]"
   ]
  },
  {
   "cell_type": "code",
   "execution_count": null,
   "metadata": {},
   "outputs": [],
   "source": [
    "cf = confusion_matrix(\n",
    "    y_true=actual_values,\n",
    "    y_pred=predictions,\n",
    "    labels=[0, 1, 2, 3, 4, 5]\n",
    ")\n",
    "cf_display = ConfusionMatrixDisplay(confusion_matrix=cf, display_labels=[0, 1, 2, 3, 4, 5])\n",
    "cf_display.plot()\n",
    "plt.figure(dpi=1000)\n",
    "plt.show()"
   ]
  },
  {
   "cell_type": "code",
   "execution_count": null,
   "metadata": {},
   "outputs": [],
   "source": []
  }
 ],
 "metadata": {
  "kernelspec": {
   "display_name": "Python 3 (ipykernel)",
   "language": "python",
   "name": "python3"
  },
  "language_info": {
   "codemirror_mode": {
    "name": "ipython",
    "version": 3
   },
   "file_extension": ".py",
   "mimetype": "text/x-python",
   "name": "python",
   "nbconvert_exporter": "python",
   "pygments_lexer": "ipython3",
   "version": "3.8.10"
  },
  "vscode": {
   "interpreter": {
    "hash": "37181f14dbe11fe743481ae5818eced153d9386fba783602f4434760eaf8a163"
   }
  }
 },
 "nbformat": 4,
 "nbformat_minor": 2
}
